{
 "cells": [
  {
   "cell_type": "code",
   "execution_count": 1,
   "id": "3f685357",
   "metadata": {},
   "outputs": [],
   "source": [
    "# Importing necessary libraries\n",
    "import pandas as pd\n",
    "import numpy as np\n",
    "from sklearn.model_selection import train_test_split\n",
    "from sklearn.preprocessing import LabelEncoder, MinMaxScaler\n",
    "from sklearn.linear_model import LinearRegression\n",
    "from sklearn.metrics import r2_score\n",
    "from sklearn.ensemble import RandomForestClassifier\n",
    "#from sklearn.multioutput import MultiOutputClassifier\n",
    "#from sklearn.pipeline import Pipeline\n",
    "from sklearn.metrics import classification_report, accuracy_score, confusion_matrix\n",
    "import seaborn as sns\n",
    "import matplotlib.pyplot as plt"
   ]
  },
  {
   "cell_type": "code",
   "execution_count": 2,
   "id": "fa8b2e26",
   "metadata": {},
   "outputs": [
    {
     "data": {
      "text/plain": [
       "<bound method DataFrame.info of                                                Indicator              Group  \\\n",
       "0      Took Prescription Medication for Mental Health...  National Estimate   \n",
       "1      Took Prescription Medication for Mental Health...             By Age   \n",
       "2      Took Prescription Medication for Mental Health...             By Age   \n",
       "3      Took Prescription Medication for Mental Health...             By Age   \n",
       "4      Took Prescription Medication for Mental Health...             By Age   \n",
       "...                                                  ...                ...   \n",
       "10399  Needed Counseling or Therapy But Did Not Get I...           By State   \n",
       "10400  Needed Counseling or Therapy But Did Not Get I...           By State   \n",
       "10401  Needed Counseling or Therapy But Did Not Get I...           By State   \n",
       "10402  Needed Counseling or Therapy But Did Not Get I...           By State   \n",
       "10403  Needed Counseling or Therapy But Did Not Get I...           By State   \n",
       "\n",
       "               State       Subgroup Phase  Time Period      Time Period Label  \\\n",
       "0      United States  United States     2           13  Aug 19 - Aug 31, 2020   \n",
       "1      United States  18 - 29 years     2           13  Aug 19 - Aug 31, 2020   \n",
       "2      United States  30 - 39 years     2           13  Aug 19 - Aug 31, 2020   \n",
       "3      United States  40 - 49 years     2           13  Aug 19 - Aug 31, 2020   \n",
       "4      United States  50 - 59 years     2           13  Aug 19 - Aug 31, 2020   \n",
       "...              ...            ...   ...          ...                    ...   \n",
       "10399       Virginia       Virginia   3.4           45   Apr 27 - May 9, 2022   \n",
       "10400     Washington     Washington   3.4           45   Apr 27 - May 9, 2022   \n",
       "10401  West Virginia  West Virginia   3.4           45   Apr 27 - May 9, 2022   \n",
       "10402      Wisconsin      Wisconsin   3.4           45   Apr 27 - May 9, 2022   \n",
       "10403        Wyoming        Wyoming   3.4           45   Apr 27 - May 9, 2022   \n",
       "\n",
       "       Value  LowCI  HighCI Quartile Range Usage_Category  \n",
       "0       19.4   19.0    19.8       9.8-11.2         Medium  \n",
       "1       18.7   17.2    20.3       9.8-11.2         Medium  \n",
       "2       18.3   17.3    19.2       9.8-11.2         Medium  \n",
       "3       20.4   19.5    21.3       9.8-11.2         Medium  \n",
       "4       21.2   20.2    22.2       9.8-11.2         Medium  \n",
       "...      ...    ...     ...            ...            ...  \n",
       "10399   10.1    7.1    13.8       9.6-11.3            Low  \n",
       "10400   14.8   12.5    17.4      13.0-20.8         Medium  \n",
       "10401    9.8    6.6    13.8       9.6-11.3            Low  \n",
       "10402   11.6    8.5    15.3      11.4-12.9            Low  \n",
       "10403   11.5    8.6    15.1      11.4-12.9            Low  \n",
       "\n",
       "[10404 rows x 12 columns]>"
      ]
     },
     "execution_count": 2,
     "metadata": {},
     "output_type": "execute_result"
    }
   ],
   "source": [
    "# Loading the dataset\n",
    "data = pd.read_csv(\"C:/Users/Dell/Desktop/Applied ML/project_eda.csv\")\n",
    "data.info"
   ]
  },
  {
   "cell_type": "code",
   "execution_count": 3,
   "id": "f99c72c5",
   "metadata": {},
   "outputs": [
    {
     "data": {
      "text/html": [
       "<div>\n",
       "<style scoped>\n",
       "    .dataframe tbody tr th:only-of-type {\n",
       "        vertical-align: middle;\n",
       "    }\n",
       "\n",
       "    .dataframe tbody tr th {\n",
       "        vertical-align: top;\n",
       "    }\n",
       "\n",
       "    .dataframe thead th {\n",
       "        text-align: right;\n",
       "    }\n",
       "</style>\n",
       "<table border=\"1\" class=\"dataframe\">\n",
       "  <thead>\n",
       "    <tr style=\"text-align: right;\">\n",
       "      <th></th>\n",
       "      <th>Indicator</th>\n",
       "      <th>Group</th>\n",
       "      <th>State</th>\n",
       "      <th>Subgroup</th>\n",
       "      <th>Phase</th>\n",
       "      <th>Time Period</th>\n",
       "      <th>Time Period Label</th>\n",
       "      <th>Value</th>\n",
       "      <th>LowCI</th>\n",
       "      <th>HighCI</th>\n",
       "      <th>Quartile Range</th>\n",
       "      <th>Usage_Category</th>\n",
       "    </tr>\n",
       "  </thead>\n",
       "  <tbody>\n",
       "    <tr>\n",
       "      <th>0</th>\n",
       "      <td>Took Prescription Medication for Mental Health...</td>\n",
       "      <td>National Estimate</td>\n",
       "      <td>United States</td>\n",
       "      <td>United States</td>\n",
       "      <td>2</td>\n",
       "      <td>13</td>\n",
       "      <td>Aug 19 - Aug 31, 2020</td>\n",
       "      <td>19.4</td>\n",
       "      <td>19.0</td>\n",
       "      <td>19.8</td>\n",
       "      <td>9.8-11.2</td>\n",
       "      <td>Medium</td>\n",
       "    </tr>\n",
       "    <tr>\n",
       "      <th>1</th>\n",
       "      <td>Took Prescription Medication for Mental Health...</td>\n",
       "      <td>By Age</td>\n",
       "      <td>United States</td>\n",
       "      <td>18 - 29 years</td>\n",
       "      <td>2</td>\n",
       "      <td>13</td>\n",
       "      <td>Aug 19 - Aug 31, 2020</td>\n",
       "      <td>18.7</td>\n",
       "      <td>17.2</td>\n",
       "      <td>20.3</td>\n",
       "      <td>9.8-11.2</td>\n",
       "      <td>Medium</td>\n",
       "    </tr>\n",
       "    <tr>\n",
       "      <th>2</th>\n",
       "      <td>Took Prescription Medication for Mental Health...</td>\n",
       "      <td>By Age</td>\n",
       "      <td>United States</td>\n",
       "      <td>30 - 39 years</td>\n",
       "      <td>2</td>\n",
       "      <td>13</td>\n",
       "      <td>Aug 19 - Aug 31, 2020</td>\n",
       "      <td>18.3</td>\n",
       "      <td>17.3</td>\n",
       "      <td>19.2</td>\n",
       "      <td>9.8-11.2</td>\n",
       "      <td>Medium</td>\n",
       "    </tr>\n",
       "    <tr>\n",
       "      <th>3</th>\n",
       "      <td>Took Prescription Medication for Mental Health...</td>\n",
       "      <td>By Age</td>\n",
       "      <td>United States</td>\n",
       "      <td>40 - 49 years</td>\n",
       "      <td>2</td>\n",
       "      <td>13</td>\n",
       "      <td>Aug 19 - Aug 31, 2020</td>\n",
       "      <td>20.4</td>\n",
       "      <td>19.5</td>\n",
       "      <td>21.3</td>\n",
       "      <td>9.8-11.2</td>\n",
       "      <td>Medium</td>\n",
       "    </tr>\n",
       "    <tr>\n",
       "      <th>4</th>\n",
       "      <td>Took Prescription Medication for Mental Health...</td>\n",
       "      <td>By Age</td>\n",
       "      <td>United States</td>\n",
       "      <td>50 - 59 years</td>\n",
       "      <td>2</td>\n",
       "      <td>13</td>\n",
       "      <td>Aug 19 - Aug 31, 2020</td>\n",
       "      <td>21.2</td>\n",
       "      <td>20.2</td>\n",
       "      <td>22.2</td>\n",
       "      <td>9.8-11.2</td>\n",
       "      <td>Medium</td>\n",
       "    </tr>\n",
       "  </tbody>\n",
       "</table>\n",
       "</div>"
      ],
      "text/plain": [
       "                                           Indicator              Group  \\\n",
       "0  Took Prescription Medication for Mental Health...  National Estimate   \n",
       "1  Took Prescription Medication for Mental Health...             By Age   \n",
       "2  Took Prescription Medication for Mental Health...             By Age   \n",
       "3  Took Prescription Medication for Mental Health...             By Age   \n",
       "4  Took Prescription Medication for Mental Health...             By Age   \n",
       "\n",
       "           State       Subgroup Phase  Time Period      Time Period Label  \\\n",
       "0  United States  United States     2           13  Aug 19 - Aug 31, 2020   \n",
       "1  United States  18 - 29 years     2           13  Aug 19 - Aug 31, 2020   \n",
       "2  United States  30 - 39 years     2           13  Aug 19 - Aug 31, 2020   \n",
       "3  United States  40 - 49 years     2           13  Aug 19 - Aug 31, 2020   \n",
       "4  United States  50 - 59 years     2           13  Aug 19 - Aug 31, 2020   \n",
       "\n",
       "   Value  LowCI  HighCI Quartile Range Usage_Category  \n",
       "0   19.4   19.0    19.8       9.8-11.2         Medium  \n",
       "1   18.7   17.2    20.3       9.8-11.2         Medium  \n",
       "2   18.3   17.3    19.2       9.8-11.2         Medium  \n",
       "3   20.4   19.5    21.3       9.8-11.2         Medium  \n",
       "4   21.2   20.2    22.2       9.8-11.2         Medium  "
      ]
     },
     "execution_count": 3,
     "metadata": {},
     "output_type": "execute_result"
    }
   ],
   "source": [
    "data.head()"
   ]
  },
  {
   "cell_type": "code",
   "execution_count": 4,
   "id": "9ff28d28",
   "metadata": {},
   "outputs": [
    {
     "name": "stdout",
     "output_type": "stream",
     "text": [
      "['Indicator', 'Group', 'State', 'Subgroup', 'Phase', 'Time Period Label', 'Quartile Range', 'Usage_Category']\n"
     ]
    }
   ],
   "source": [
    "# Identify categorical columns\n",
    "cat_cols = data.select_dtypes(include=['object', 'category']).columns.to_list()\n",
    "print(cat_cols)"
   ]
  },
  {
   "cell_type": "code",
   "execution_count": 5,
   "id": "29d4c1d5",
   "metadata": {},
   "outputs": [
    {
     "name": "stdout",
     "output_type": "stream",
     "text": [
      "   Indicator  Group  State  Subgroup  Phase  Time Period  Time Period Label  \\\n",
      "0          3      9     44        70      1           13                  4   \n",
      "1          3      0     44         0      1           13                  4   \n",
      "2          3      0     44         1      1           13                  4   \n",
      "3          3      0     44         2      1           13                  4   \n",
      "4          3      0     44         3      1           13                  4   \n",
      "\n",
      "   Value  LowCI  HighCI  Quartile Range  Usage_Category  \n",
      "0   19.4   19.0    19.8             490               2  \n",
      "1   18.7   17.2    20.3             490               2  \n",
      "2   18.3   17.3    19.2             490               2  \n",
      "3   20.4   19.5    21.3             490               2  \n",
      "4   21.2   20.2    22.2             490               2  \n"
     ]
    }
   ],
   "source": [
    "label_encoder = LabelEncoder()\n",
    "# Apply label encoding to each categorical column\n",
    "for col in cat_cols:\n",
    "    data[col] = label_encoder.fit_transform(data[col])\n",
    "\n",
    "# Verify the changes\n",
    "print(data.head())"
   ]
  },
  {
   "cell_type": "code",
   "execution_count": 6,
   "id": "6709621d",
   "metadata": {},
   "outputs": [],
   "source": [
    "# Defining the features and target variables\n",
    "y = data[\"Usage_Category\"]\n",
    "x = data.drop(columns=[\"Value\", \"Usage_Category\"])"
   ]
  },
  {
   "cell_type": "code",
   "execution_count": 7,
   "id": "9d5af426",
   "metadata": {},
   "outputs": [],
   "source": [
    "# Split the data into training and test sets\n",
    "x_train, x_test, y_train, y_test = train_test_split(x, y, test_size=0.2, random_state=42)"
   ]
  },
  {
   "cell_type": "code",
   "execution_count": 8,
   "id": "5d99f189",
   "metadata": {},
   "outputs": [],
   "source": [
    "# Normalizing the dataset\n",
    "# Initialize the StandardScaler\n",
    "scaler = MinMaxScaler()\n",
    "\n",
    "# Fit the scaler on the training data and transform both training and test data\n",
    "x_train_scaled = scaler.fit_transform(x_train)\n",
    "x_test_scaled = scaler.transform(x_test)"
   ]
  },
  {
   "cell_type": "code",
   "execution_count": 14,
   "id": "c201efa6",
   "metadata": {},
   "outputs": [
    {
     "name": "stdout",
     "output_type": "stream",
     "text": [
      "R² score: 0.37478054194370425\n"
     ]
    }
   ],
   "source": [
    "# Applying linear regression to check the linearity of the dataset\n",
    "\n",
    "# Initialize and train the linear regression model\n",
    "linear_model = LinearRegression()\n",
    "linear_model.fit(x_train, y_train)\n",
    "\n",
    "# Predict on the test set\n",
    "y_pred = linear_model.predict(x_test)\n",
    "\n",
    "# Calculate R² score\n",
    "r2 = r2_score(y_test, y_pred)\n",
    "print(\"R² score:\", r2)"
   ]
  },
  {
   "cell_type": "code",
   "execution_count": 10,
   "id": "2f364908",
   "metadata": {},
   "outputs": [
    {
     "data": {
      "text/html": [
       "<style>#sk-container-id-1 {color: black;background-color: white;}#sk-container-id-1 pre{padding: 0;}#sk-container-id-1 div.sk-toggleable {background-color: white;}#sk-container-id-1 label.sk-toggleable__label {cursor: pointer;display: block;width: 100%;margin-bottom: 0;padding: 0.3em;box-sizing: border-box;text-align: center;}#sk-container-id-1 label.sk-toggleable__label-arrow:before {content: \"▸\";float: left;margin-right: 0.25em;color: #696969;}#sk-container-id-1 label.sk-toggleable__label-arrow:hover:before {color: black;}#sk-container-id-1 div.sk-estimator:hover label.sk-toggleable__label-arrow:before {color: black;}#sk-container-id-1 div.sk-toggleable__content {max-height: 0;max-width: 0;overflow: hidden;text-align: left;background-color: #f0f8ff;}#sk-container-id-1 div.sk-toggleable__content pre {margin: 0.2em;color: black;border-radius: 0.25em;background-color: #f0f8ff;}#sk-container-id-1 input.sk-toggleable__control:checked~div.sk-toggleable__content {max-height: 200px;max-width: 100%;overflow: auto;}#sk-container-id-1 input.sk-toggleable__control:checked~label.sk-toggleable__label-arrow:before {content: \"▾\";}#sk-container-id-1 div.sk-estimator input.sk-toggleable__control:checked~label.sk-toggleable__label {background-color: #d4ebff;}#sk-container-id-1 div.sk-label input.sk-toggleable__control:checked~label.sk-toggleable__label {background-color: #d4ebff;}#sk-container-id-1 input.sk-hidden--visually {border: 0;clip: rect(1px 1px 1px 1px);clip: rect(1px, 1px, 1px, 1px);height: 1px;margin: -1px;overflow: hidden;padding: 0;position: absolute;width: 1px;}#sk-container-id-1 div.sk-estimator {font-family: monospace;background-color: #f0f8ff;border: 1px dotted black;border-radius: 0.25em;box-sizing: border-box;margin-bottom: 0.5em;}#sk-container-id-1 div.sk-estimator:hover {background-color: #d4ebff;}#sk-container-id-1 div.sk-parallel-item::after {content: \"\";width: 100%;border-bottom: 1px solid gray;flex-grow: 1;}#sk-container-id-1 div.sk-label:hover label.sk-toggleable__label {background-color: #d4ebff;}#sk-container-id-1 div.sk-serial::before {content: \"\";position: absolute;border-left: 1px solid gray;box-sizing: border-box;top: 0;bottom: 0;left: 50%;z-index: 0;}#sk-container-id-1 div.sk-serial {display: flex;flex-direction: column;align-items: center;background-color: white;padding-right: 0.2em;padding-left: 0.2em;position: relative;}#sk-container-id-1 div.sk-item {position: relative;z-index: 1;}#sk-container-id-1 div.sk-parallel {display: flex;align-items: stretch;justify-content: center;background-color: white;position: relative;}#sk-container-id-1 div.sk-item::before, #sk-container-id-1 div.sk-parallel-item::before {content: \"\";position: absolute;border-left: 1px solid gray;box-sizing: border-box;top: 0;bottom: 0;left: 50%;z-index: -1;}#sk-container-id-1 div.sk-parallel-item {display: flex;flex-direction: column;z-index: 1;position: relative;background-color: white;}#sk-container-id-1 div.sk-parallel-item:first-child::after {align-self: flex-end;width: 50%;}#sk-container-id-1 div.sk-parallel-item:last-child::after {align-self: flex-start;width: 50%;}#sk-container-id-1 div.sk-parallel-item:only-child::after {width: 0;}#sk-container-id-1 div.sk-dashed-wrapped {border: 1px dashed gray;margin: 0 0.4em 0.5em 0.4em;box-sizing: border-box;padding-bottom: 0.4em;background-color: white;}#sk-container-id-1 div.sk-label label {font-family: monospace;font-weight: bold;display: inline-block;line-height: 1.2em;}#sk-container-id-1 div.sk-label-container {text-align: center;}#sk-container-id-1 div.sk-container {/* jupyter's `normalize.less` sets `[hidden] { display: none; }` but bootstrap.min.css set `[hidden] { display: none !important; }` so we also need the `!important` here to be able to override the default hidden behavior on the sphinx rendered scikit-learn.org. See: https://github.com/scikit-learn/scikit-learn/issues/21755 */display: inline-block !important;position: relative;}#sk-container-id-1 div.sk-text-repr-fallback {display: none;}</style><div id=\"sk-container-id-1\" class=\"sk-top-container\"><div class=\"sk-text-repr-fallback\"><pre>RandomForestClassifier(random_state=42)</pre><b>In a Jupyter environment, please rerun this cell to show the HTML representation or trust the notebook. <br />On GitHub, the HTML representation is unable to render, please try loading this page with nbviewer.org.</b></div><div class=\"sk-container\" hidden><div class=\"sk-item\"><div class=\"sk-estimator sk-toggleable\"><input class=\"sk-toggleable__control sk-hidden--visually\" id=\"sk-estimator-id-1\" type=\"checkbox\" checked><label for=\"sk-estimator-id-1\" class=\"sk-toggleable__label sk-toggleable__label-arrow\">RandomForestClassifier</label><div class=\"sk-toggleable__content\"><pre>RandomForestClassifier(random_state=42)</pre></div></div></div></div></div>"
      ],
      "text/plain": [
       "RandomForestClassifier(random_state=42)"
      ]
     },
     "execution_count": 10,
     "metadata": {},
     "output_type": "execute_result"
    }
   ],
   "source": [
    "# Applying RF model\n",
    "rf = RandomForestClassifier(random_state=42)\n",
    "rf.fit(x_train, y_train)"
   ]
  },
  {
   "cell_type": "code",
   "execution_count": 11,
   "id": "c1ebb00e",
   "metadata": {},
   "outputs": [
    {
     "name": "stdout",
     "output_type": "stream",
     "text": [
      "Accuracy: 99.09%\n",
      "Classification Report:\n",
      "               precision    recall  f1-score   support\n",
      "\n",
      "           0       0.99      0.99      0.99       705\n",
      "           1       0.99      0.99      0.99       656\n",
      "           2       0.99      0.99      0.99       720\n",
      "\n",
      "    accuracy                           0.99      2081\n",
      "   macro avg       0.99      0.99      0.99      2081\n",
      "weighted avg       0.99      0.99      0.99      2081\n",
      "\n",
      "Confusion Matrix:\n",
      " [[700   0   5]\n",
      " [  0 652   4]\n",
      " [  5   5 710]]\n"
     ]
    }
   ],
   "source": [
    "# Make predictions on the test data\n",
    "y_pred = rf.predict(x_test)\n",
    "\n",
    "# Evaluate the model's performance\n",
    "accuracy = accuracy_score(y_test, y_pred)\n",
    "print(f\"Accuracy: {accuracy * 100:.2f}%\")\n",
    "\n",
    "# Classification report (precision, recall, F1-score, etc.)\n",
    "print(\"Classification Report:\\n\", classification_report(y_test, y_pred))\n",
    "\n",
    "# Confusion matrix\n",
    "print(\"Confusion Matrix:\\n\", confusion_matrix(y_test, y_pred))"
   ]
  },
  {
   "cell_type": "code",
   "execution_count": 19,
   "id": "6fee9c24",
   "metadata": {},
   "outputs": [
    {
     "name": "stdout",
     "output_type": "stream",
     "text": [
      "Linear Kernel CV Score: 0.9699623902748904\n",
      "Polynomial Kernel Degree 2 CV Score: 0.980295174982675\n",
      "RBF Kernel Gamma as Scale CV Score: 0.9561446061446063\n"
     ]
    }
   ],
   "source": [
    "from sklearn.svm import SVC\n",
    "from sklearn.model_selection import cross_val_score\n",
    "\n",
    "# Linear SVM\n",
    "model_linear = SVC(kernel='linear')\n",
    "score_linear = cross_val_score(model_linear, x_train_scaled, y_train, cv=5).mean()\n",
    "\n",
    "# Polynomial SVM (degree 2)\n",
    "model_poly2 = SVC(kernel='poly', degree=2)\n",
    "score_poly2 = cross_val_score(model_poly2, x_train_scaled, y_train, cv=5).mean()\n",
    "\n",
    "# RBF SVM\n",
    "model_rbf = SVC(kernel='rbf', gamma='scale')\n",
    "score_rbf = cross_val_score(model_rbf, x_train_scaled, y_train, cv=5).mean()\n",
    "\n",
    "# Compare results\n",
    "print(\"Linear Kernel CV Score:\", score_linear)\n",
    "print(\"Polynomial Kernel Degree 2 CV Score:\", score_poly2)\n",
    "print(\"RBF Kernel Gamma as Scale CV Score:\", score_rbf)"
   ]
  },
  {
   "cell_type": "code",
   "execution_count": 22,
   "id": "71dc02b5",
   "metadata": {},
   "outputs": [
    {
     "name": "stdout",
     "output_type": "stream",
     "text": [
      "Best parameters: {'svc__C': 100, 'svc__degree': 1, 'svc__gamma': 'scale'}\n",
      "Best cross-validated score: 0.9942325017325018\n"
     ]
    }
   ],
   "source": [
    "# For choosing the best param for our model\n",
    "from sklearn.model_selection import GridSearchCV\n",
    "from sklearn.pipeline import Pipeline\n",
    "\n",
    "pipeline = Pipeline([\n",
    "    ('svc', SVC(kernel='poly'))\n",
    "])\n",
    "\n",
    "# Define the parameter grid\n",
    "param_grid = {\n",
    "    'svc__degree': [1, 2, 3, 4, 5, 6, 7, 8, 9, 10],\n",
    "    'svc__C': [0.1, 1, 10, 100],    \n",
    "    'svc__gamma': ['scale', 'auto']\n",
    "}\n",
    "\n",
    "# Set up GridSearchCV\n",
    "grid_search = GridSearchCV(pipeline, param_grid, cv=5, scoring='accuracy')\n",
    "\n",
    "# Fit the model\n",
    "grid_search.fit(x_train_scaled, y_train)\n",
    "\n",
    "# Get the best parameters and score\n",
    "best_degree = grid_search.best_params_['svc__degree']\n",
    "best_score = grid_search.best_score_\n",
    "\n",
    "# Get the best parameters and score\n",
    "best_params = grid_search.best_params_\n",
    "best_score = grid_search.best_score_\n",
    "\n",
    "print(f\"Best parameters: {best_params}\")\n",
    "print(f\"Best cross-validated score: {best_score}\")"
   ]
  },
  {
   "cell_type": "code",
   "execution_count": null,
   "id": "95ac0931",
   "metadata": {},
   "outputs": [],
   "source": [
    "# Make predictions\n",
    "y_train_pred = svm_model.predict(x_train)\n",
    "y_test_pred = svm_model.predict(x_test)\n",
    "\n",
    "# Evaluate the model's performance\n",
    "accuracy = accuracy_score(y_test, y_test_pred)\n",
    "print(f\"Accuracy: {accuracy * 100:.2f}%\")\n",
    "\n",
    "# Classification report (precision, recall, F1-score, etc.)\n",
    "print(\"Classification Report:\\n\", classification_report(y_test, y_test_pred))\n",
    "\n",
    "# Confusion matrix\n",
    "print(\"Confusion Matrix:\\n\", confusion_matrix(y_test, y_test_pred))"
   ]
  },
  {
   "cell_type": "code",
   "execution_count": null,
   "id": "398d97ec",
   "metadata": {},
   "outputs": [],
   "source": [
    "from sklearn.metrics import mean_squared_error\n",
    "# Calculate MSE for both training and test sets\n",
    "svm_train_mse = mean_squared_error(y_train, y_train_pred)\n",
    "svm_test_mse = mean_squared_error(y_test, y_test_pred)\n",
    "\n",
    "# Print the MSE values\n",
    "print(f\"Training MSE: {svm_train_mse}\")\n",
    "print(f\"Test MSE: {svm_test_mse}\")\n",
    "\n",
    "# Plot the MSE for both training and test sets\n",
    "mse_values = [svm_train_mse, svm_test_mse]\n",
    "labels = ['Training MSE', 'Test MSE']\n",
    "\n",
    "plt.bar(labels, mse_values, color=['blue', 'red'])\n",
    "plt.ylabel('Mean Squared Error')\n",
    "plt.title('Training vs Test MSE')\n",
    "plt.show()"
   ]
  },
  {
   "cell_type": "code",
   "execution_count": null,
   "id": "721f24aa",
   "metadata": {},
   "outputs": [],
   "source": [
    "# Applying Logistic regression\n",
    "from sklearn.linear_model import LogisticRegression\n",
    "\n",
    "logistic_model = LogisticRegression(random_state=42)\n",
    "logistic_model.fit(x_train, y_train)"
   ]
  },
  {
   "cell_type": "code",
   "execution_count": null,
   "id": "12b3b195",
   "metadata": {},
   "outputs": [],
   "source": [
    "# Make predictions\n",
    "y_train_pred = logistic_model.predict(x_train)\n",
    "y_test_pred = logistic_model.predict(x_test)\n",
    "\n",
    "# Evaluate the model's performance\n",
    "accuracy = accuracy_score(y_test, y_test_pred)\n",
    "print(f\"Accuracy: {accuracy * 100:.2f}%\")\n",
    "\n",
    "# Classification report (precision, recall, F1-score, etc.)\n",
    "print(\"Classification Report:\\n\", classification_report(y_test, y_test_pred))\n",
    "\n",
    "# Confusion matrix\n",
    "print(\"Confusion Matrix:\\n\", confusion_matrix(y_test, y_test_pred))"
   ]
  },
  {
   "cell_type": "code",
   "execution_count": null,
   "id": "6939aca1",
   "metadata": {},
   "outputs": [],
   "source": [
    "# Plot confusion matrix as heatmap\n",
    "cm = confusion_matrix(y_test, y_test_pred)\n",
    "plt.figure(figsize=(8, 6))\n",
    "sns.heatmap(cm, annot=True, fmt='d', cmap='Blues', \n",
    "            xticklabels=['Low', 'Medium', 'High'],\n",
    "            yticklabels=['Low', 'Medium', 'High'])\n",
    "plt.xlabel('Predicted labels')\n",
    "plt.ylabel('True labels')\n",
    "plt.title('Confusion Matrix')"
   ]
  },
  {
   "cell_type": "code",
   "execution_count": null,
   "id": "29e0fef2",
   "metadata": {},
   "outputs": [],
   "source": [
    "from sklearn.metrics import mean_squared_error\n",
    "# Calculate MSE for both training and test sets\n",
    "logreg_train_mse = mean_squared_error(y_train, y_train_pred)\n",
    "logreg_test_mse = mean_squared_error(y_test, y_test_pred)\n",
    "\n",
    "# Print the MSE values\n",
    "print(f\"Training MSE: {logreg_train_mse}\")\n",
    "print(f\"Test MSE: {logreg_test_mse}\")\n",
    "\n",
    "# Plot the MSE for both training and test sets\n",
    "mse_values = [logreg_train_mse, logreg_test_mse]\n",
    "labels = ['Training MSE', 'Test MSE']\n",
    "\n",
    "plt.bar(labels, mse_values, color=['blue', 'red'])\n",
    "plt.ylabel('Mean Squared Error')\n",
    "plt.title('Training vs Test MSE')\n",
    "plt.show()"
   ]
  },
  {
   "cell_type": "code",
   "execution_count": null,
   "id": "7f35555d",
   "metadata": {},
   "outputs": [],
   "source": [
    "# Applying ANN\n",
    "import tensorflow as tf\n",
    "from tensorflow import keras\n",
    "from tensorflow.keras import layers\n",
    "\n",
    "# Build the ANN model\n",
    "model = keras.Sequential()\n",
    "model.add(layers.Dense(10, activation='relu', input_shape=(x_train.shape[1],)))  # Input layer\n",
    "model.add(layers.Dense(10, activation='relu'))  # Hidden layer\n",
    "model.add(layers.Dense(len(label_encoder.classes_), activation='softmax'))  # Output layer\n",
    "\n",
    "# Compile the model\n",
    "model.compile(optimizer='adam', loss='sparse_categorical_crossentropy', metrics=['accuracy'])"
   ]
  },
  {
   "cell_type": "code",
   "execution_count": null,
   "id": "f9456187",
   "metadata": {},
   "outputs": [],
   "source": [
    "# Train the model\n",
    "model.fit(x_train, y_train, epochs=100, batch_size=5, verbose=1)"
   ]
  }
 ],
 "metadata": {
  "kernelspec": {
   "display_name": "Python 3 (ipykernel)",
   "language": "python",
   "name": "python3"
  },
  "language_info": {
   "codemirror_mode": {
    "name": "ipython",
    "version": 3
   },
   "file_extension": ".py",
   "mimetype": "text/x-python",
   "name": "python",
   "nbconvert_exporter": "python",
   "pygments_lexer": "ipython3",
   "version": "3.11.7"
  }
 },
 "nbformat": 4,
 "nbformat_minor": 5
}
